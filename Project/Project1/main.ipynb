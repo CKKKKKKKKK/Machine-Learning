{
 "metadata": {
  "language_info": {
   "codemirror_mode": {
    "name": "ipython",
    "version": 3
   },
   "file_extension": ".py",
   "mimetype": "text/x-python",
   "name": "python",
   "nbconvert_exporter": "python",
   "pygments_lexer": "ipython3",
   "version": "3.8.5-final"
  },
  "orig_nbformat": 2,
  "kernelspec": {
   "name": "Python 3.8.5 64-bit (conda)",
   "display_name": "Python 3.8.5 64-bit (conda)",
   "metadata": {
    "interpreter": {
     "hash": "fcdafa320b1bd52415b4da26a3e91d8c55e0b68a992d8fe533e9215398eb0247"
    }
   }
  }
 },
 "nbformat": 4,
 "nbformat_minor": 2,
 "cells": [
  {
   "source": [
    "## Import 3rd party dependencies"
   ],
   "cell_type": "markdown",
   "metadata": {}
  },
  {
   "source": [
    "import pandas as pd\n",
    "import numpy as np\n",
    "import matplotlib.pyplot as plt\n",
    "import plotly.graph_objs as go\n",
    "import plotly.io as pio\n",
    "from sklearn.preprocessing import normalize\n",
    "from sklearn.model_selection import train_test_split"
   ],
   "cell_type": "code",
   "metadata": {},
   "execution_count": 893,
   "outputs": []
  },
  {
   "source": [
    "## Load training data"
   ],
   "cell_type": "markdown",
   "metadata": {}
  },
  {
   "source": [
    "data = pd.read_csv(\"archive/train.csv\")\n",
    "print(data)"
   ],
   "cell_type": "code",
   "metadata": {},
   "execution_count": 894,
   "outputs": [
    {
     "output_type": "stream",
     "name": "stdout",
     "text": [
      "      battery_power  blue  clock_speed  dual_sim  fc  four_g  int_memory  \\\n0               842     0          2.2         0   1       0           7   \n1              1021     1          0.5         1   0       1          53   \n2               563     1          0.5         1   2       1          41   \n3               615     1          2.5         0   0       0          10   \n4              1821     1          1.2         0  13       1          44   \n...             ...   ...          ...       ...  ..     ...         ...   \n1995            794     1          0.5         1   0       1           2   \n1996           1965     1          2.6         1   0       0          39   \n1997           1911     0          0.9         1   1       1          36   \n1998           1512     0          0.9         0   4       1          46   \n1999            510     1          2.0         1   5       1          45   \n\n      m_dep  mobile_wt  n_cores  ...  px_height  px_width   ram  sc_h  sc_w  \\\n0       0.6        188        2  ...         20       756  2549     9     7   \n1       0.7        136        3  ...        905      1988  2631    17     3   \n2       0.9        145        5  ...       1263      1716  2603    11     2   \n3       0.8        131        6  ...       1216      1786  2769    16     8   \n4       0.6        141        2  ...       1208      1212  1411     8     2   \n...     ...        ...      ...  ...        ...       ...   ...   ...   ...   \n1995    0.8        106        6  ...       1222      1890   668    13     4   \n1996    0.2        187        4  ...        915      1965  2032    11    10   \n1997    0.7        108        8  ...        868      1632  3057     9     1   \n1998    0.1        145        5  ...        336       670   869    18    10   \n1999    0.9        168        6  ...        483       754  3919    19     4   \n\n      talk_time  three_g  touch_screen  wifi  price_range  \n0            19        0             0     1            1  \n1             7        1             1     0            2  \n2             9        1             1     0            2  \n3            11        1             0     0            2  \n4            15        1             1     0            1  \n...         ...      ...           ...   ...          ...  \n1995         19        1             1     0            0  \n1996         16        1             1     1            2  \n1997          5        1             1     0            3  \n1998         19        1             1     1            0  \n1999          2        1             1     1            3  \n\n[2000 rows x 21 columns]\n"
     ]
    }
   ]
  },
  {
   "source": [
    "## Data Preprocessing"
   ],
   "cell_type": "markdown",
   "metadata": {}
  },
  {
   "source": [
    "#### Convert labels into to two classes: low (0, 1) and high (2, 3)"
   ],
   "cell_type": "markdown",
   "metadata": {}
  },
  {
   "cell_type": "code",
   "execution_count": 895,
   "metadata": {},
   "outputs": [
    {
     "output_type": "stream",
     "name": "stdout",
     "text": [
      "   battery_power  blue  clock_speed  dual_sim  fc  four_g  int_memory  m_dep  \\\n0            842     0          2.2         0   1       0           7    0.6   \n1           1021     1          0.5         1   0       1          53    0.7   \n2            563     1          0.5         1   2       1          41    0.9   \n3            615     1          2.5         0   0       0          10    0.8   \n4           1821     1          1.2         0  13       1          44    0.6   \n\n   mobile_wt  n_cores  ...  px_width   ram  sc_h  sc_w  talk_time  three_g  \\\n0        188        2  ...       756  2549     9     7         19        0   \n1        136        3  ...      1988  2631    17     3          7        1   \n2        145        5  ...      1716  2603    11     2          9        1   \n3        131        6  ...      1786  2769    16     8         11        1   \n4        141        2  ...      1212  1411     8     2         15        1   \n\n   touch_screen  wifi  price_range  price_classification  \n0             0     1            1                     0  \n1             1     0            2                     1  \n2             1     0            2                     1  \n3             0     0            2                     1  \n4             1     0            1                     0  \n\n[5 rows x 22 columns]\n"
     ]
    }
   ],
   "source": [
    "data[\"price_classification\"] = np.where(data[\"price_range\"] <= 1, 0, 1)\n",
    "print(data.head())"
   ]
  },
  {
   "source": [
    "#### Split the original ‘train.csv’ into ‘train.csv’, ‘valid.csv’ and ‘test.csv’ with the ratio of 0.8 : 0.1 : 0.1"
   ],
   "cell_type": "markdown",
   "metadata": {}
  },
  {
   "cell_type": "code",
   "execution_count": 896,
   "metadata": {},
   "outputs": [],
   "source": [
    "x = data\n",
    "y = data[\"price_range\"]\n",
    "train_data, tmp_x, train_y, tmp_y = train_test_split(x, y, test_size = 0.2, random_state = 101, stratify = y)\n",
    "test_data, valid_data, test_y, valid_y = train_test_split(x_tmp, y_tmp, test_size = 0.5, random_state = 101, stratify = tmp_y)"
   ]
  },
  {
   "source": [
    "#### Test whether the split works correctly"
   ],
   "cell_type": "markdown",
   "metadata": {}
  },
  {
   "cell_type": "code",
   "execution_count": 897,
   "metadata": {},
   "outputs": [
    {
     "output_type": "stream",
     "name": "stdout",
     "text": [
      "(1600, 22)\n(200, 22)\n(200, 22)\n      battery_power  blue  clock_speed  dual_sim  fc  four_g  int_memory  \\\n1569           1494     0          2.4         0   6       1           3   \n1668            962     0          1.0         1  14       0           2   \n1989            586     0          2.8         0   2       0          15   \n1609           1148     0          2.3         1   0       1          58   \n1424           1352     0          2.4         0   5       1           6   \n\n      m_dep  mobile_wt  n_cores  ...  px_width   ram  sc_h  sc_w  talk_time  \\\n1569    0.9         93        7  ...      1003  1208    14    13         17   \n1668    0.9        125        1  ...      1916  1491    16     2         14   \n1989    0.2         83        3  ...       854  2592    12     8          3   \n1609    0.3        170        5  ...       688  3127    10     7         11   \n1424    0.9         92        6  ...      1299  1309    12     1         14   \n\n      three_g  touch_screen  wifi  price_range  price_classification  \n1569        1             1     0            1                     0  \n1668        1             0     0            1                     0  \n1989        0             0     0            1                     0  \n1609        1             0     0            2                     1  \n1424        1             0     0            1                     0  \n\n[5 rows x 22 columns]\n"
     ]
    }
   ],
   "source": [
    "print(train_data.shape)\n",
    "print(test_data.shape)\n",
    "print(valid_data.shape)\n",
    "print(train_data.head())"
   ]
  },
  {
   "source": [
    "#### Write the data back to the csv file"
   ],
   "cell_type": "markdown",
   "metadata": {}
  },
  {
   "cell_type": "code",
   "execution_count": 898,
   "metadata": {},
   "outputs": [],
   "source": [
    "train_data.to_csv(\"train.csv\")\n",
    "test_data.to_csv(\"test.csv\")\n",
    "valid_data.to_csv(\"valid.csv\")"
   ]
  },
  {
   "source": [
    "## Model Implementation"
   ],
   "cell_type": "markdown",
   "metadata": {}
  },
  {
   "source": [
    "### The Sigmoid function"
   ],
   "cell_type": "markdown",
   "metadata": {}
  },
  {
   "source": [
    "def sigmoid(x):\n",
    "    return 1 / (1 + np.exp(-x))"
   ],
   "cell_type": "code",
   "metadata": {},
   "execution_count": 899,
   "outputs": []
  },
  {
   "source": [
    "### Logistic Regression"
   ],
   "cell_type": "markdown",
   "metadata": {}
  },
  {
   "source": [
    "class LogisticRegression():\n",
    "    def __init__(self, learning_rate=.1, n_iterations=8000):\n",
    "        self.learning_rate = learning_rate\n",
    "        self.n_iterations = n_iterations\n",
    "\n",
    "    def initialize_weights(self, n_features):\n",
    "        limit = np.sqrt(1 / n_features)\n",
    "        w = np.random.uniform(-limit, limit, (n_features, 1))\n",
    "        b = 0\n",
    "        # Insert 0 as w_0\n",
    "        self.w = np.insert(w, 0, b, axis=0)\n",
    "\n",
    "    def fit(self, X, y):\n",
    "        normal_X = normalize(X, norm = 'max')\n",
    "        m_samples, n_features = normal_X.shape\n",
    "        self.initialize_weights(n_features)\n",
    "        # Insert a column of 1 as x_0\n",
    "        normal_X = np.insert(normal_X, 0, 1, axis=1)\n",
    "        y = np.reshape(y, (m_samples, 1))\n",
    "        for i in range(self.n_iterations):\n",
    "            h_x = normal_X.dot(self.w)\n",
    "            y_pred = sigmoid(h_x)\n",
    "            w_grad = normal_X.T.dot(y_pred - y)\n",
    "            self.w = self.w - self.learning_rate * w_grad\n",
    "        return self.w\n",
    "\n",
    "    def predict(self, X):\n",
    "        normal_X = normalize(X, norm = 'max')\n",
    "        normal_X = np.insert(normal_X, 0, 1, axis=1)\n",
    "        h_x = normal_X.dot(self.w)\n",
    "        y_pred = np.round(sigmoid(h_x))\n",
    "        return y_pred.astype(int)\n",
    "\n",
    "    def test(self, X, y):\n",
    "        y_pred = self.predict(X)\n",
    "        right_count = 0\n",
    "        m_samples = X.shape[0]\n",
    "        for i in range(m_samples):\n",
    "            if y_pred[i] == y[i]:\n",
    "                right_count += 1\n",
    "        return right_count / m_samples "
   ],
   "cell_type": "code",
   "metadata": {},
   "execution_count": 900,
   "outputs": []
  },
  {
   "source": [
    "### Naive Bayes"
   ],
   "cell_type": "markdown",
   "metadata": {}
  },
  {
   "cell_type": "code",
   "execution_count": 901,
   "metadata": {},
   "outputs": [],
   "source": [
    "class NaiveBayes():\n",
    "    def __init__(self, continuous, uncontinuous):\n",
    "        self.continuous = continuous\n",
    "        self.uncontinuous = uncontinuous\n",
    "    def fit(self, X, y):\n",
    "        self.X = X\n",
    "        self.y = y\n",
    "        self.classes = np.unique(y)\n",
    "        self.parameters = {}\n",
    "        for i, c in enumerate(self.classes):\n",
    "            # Calculate prior probability of every class\n",
    "            prior = y.values[np.where(self.y == c)].shape[0] / self.y.shape[0]\n",
    "            # Calculate likelihood of every continuous attribute\n",
    "            likelihood_con = {}\n",
    "            for item in self.continuous:\n",
    "                X_index_c_con = self.X[item].values[np.where(self.y == c)]\n",
    "                X_index_c_con_mean = np.mean(X_index_c_con)\n",
    "                X_index_c_con_var = np.var(X_index_c_con)\n",
    "                likelihood_con[item] = {\"mean\": X_index_c_con_mean, \"var\": X_index_c_con_var}\n",
    "            # Calculate likelihood of every uncontinuous attribute\n",
    "            likelihood_uncon = {}\n",
    "            for item in self.uncontinuous:\n",
    "                X_index_c_uncon = self.X[item].values[np.where(self.y == c)]\n",
    "                classes = np.unique(X_index_c_uncon)\n",
    "                likelihood = {}\n",
    "                for class_item in classes:\n",
    "                    likelihood[class_item] = X_index_c_uncon[np.where(X_index_c_uncon == class_item)].shape[0] / X_index_c_uncon.shape[0]\n",
    "                likelihood_uncon[item] = {\"likelihoods\": likelihood}\n",
    "                    # print(X_index_c_uncon[np.where(X_index_c_uncon == class_item)].shape[0])\n",
    "            self.parameters[c] = {\"prior\": prior, \"likelihood_con\": likelihood_con, \"likelihood_uncon\": likelihood_uncon}    \n",
    "        return self.parameters        "
   ]
  },
  {
   "source": [
    "## Train models"
   ],
   "cell_type": "markdown",
   "metadata": {}
  },
  {
   "source": [
    "### Decide what fields we want to process"
   ],
   "cell_type": "markdown",
   "metadata": {}
  },
  {
   "cell_type": "code",
   "execution_count": 902,
   "metadata": {},
   "outputs": [],
   "source": [
    "output_param_name = 'price_classification'\n",
    "price_range = 'price_range'"
   ]
  },
  {
   "source": [
    "### Split training set and test set into input and output"
   ],
   "cell_type": "markdown",
   "metadata": {}
  },
  {
   "cell_type": "code",
   "execution_count": 903,
   "metadata": {},
   "outputs": [],
   "source": [
    "x_train = train_data.drop(output_param_name,axis=1,inplace=False).drop(price_range,axis=1,inplace=False)\n",
    "y_train = train_data[output_param_name]\n",
    "x_test = test_data.drop(output_param_name,axis=1,inplace=False).drop(price_range,axis=1,inplace=False)\n",
    "y_test = test_data[output_param_name]"
   ]
  },
  {
   "source": [
    "#### Check whether the split works correctly"
   ],
   "cell_type": "markdown",
   "metadata": {}
  },
  {
   "cell_type": "code",
   "execution_count": 904,
   "metadata": {},
   "outputs": [
    {
     "output_type": "stream",
     "name": "stdout",
     "text": [
      "      battery_power  blue  clock_speed  dual_sim  fc  four_g  int_memory  \\\n1569           1494     0          2.4         0   6       1           3   \n1668            962     0          1.0         1  14       0           2   \n1989            586     0          2.8         0   2       0          15   \n1609           1148     0          2.3         1   0       1          58   \n1424           1352     0          2.4         0   5       1           6   \n...             ...   ...          ...       ...  ..     ...         ...   \n999            1777     1          3.0         0   3       0          20   \n1598           1851     0          2.9         0   0       0          53   \n1775            574     1          3.0         0   1       1          30   \n258             564     0          1.8         1   0       1          51   \n819            1236     0          0.9         1   2       1          57   \n\n      m_dep  mobile_wt  n_cores  pc  px_height  px_width   ram  sc_h  sc_w  \\\n1569    0.9         93        7  17        944      1003  1208    14    13   \n1668    0.9        125        1  20       1618      1916  1491    16     2   \n1989    0.2         83        3  11        241       854  2592    12     8   \n1609    0.3        170        5  20        606       688  3127    10     7   \n1424    0.9         92        6   9        629      1299  1309    12     1   \n...     ...        ...      ...  ..        ...       ...   ...   ...   ...   \n999     0.6        188        6   5        511       616  3868     5     1   \n1598    0.7        112        6   2        174      1175  2678     6     0   \n1775    0.9        126        2   3         94      1334  1167     5     3   \n258     0.5        168        3   1        912      1980  1074    14     8   \n819     0.1        188        1  14        517       809  1406    14    12   \n\n      talk_time  three_g  touch_screen  wifi  \n1569         17        1             1     0  \n1668         14        1             0     0  \n1989          3        0             0     0  \n1609         11        1             0     0  \n1424         14        1             0     0  \n...         ...      ...           ...   ...  \n999           7        0             1     1  \n1598          8        1             0     0  \n1775         19        1             0     0  \n258          15        1             1     0  \n819          20        1             0     1  \n\n[1600 rows x 20 columns]\n1569    0\n1668    0\n1989    0\n1609    1\n1424    0\n       ..\n999     1\n1598    1\n1775    0\n258     0\n819     0\nName: price_classification, Length: 1600, dtype: int32\n      battery_power  blue  clock_speed  dual_sim  fc  four_g  int_memory  \\\n1807            713     0          1.4         1   4       0          53   \n1550           1280     1          1.3         0   0       1          39   \n1970           1913     1          1.8         0   0       0          29   \n1633           1469     0          1.7         1  11       1          44   \n1420            904     0          2.7         1   4       0          19   \n...             ...   ...          ...       ...  ..     ...         ...   \n1776           1072     1          2.2         1   6       0          19   \n1529           1831     1          2.2         1   4       0          55   \n885             730     1          1.3         1   6       0           6   \n653             571     0          1.6         1   8       0          35   \n479            1589     1          2.2         1   2       0          58   \n\n      m_dep  mobile_wt  n_cores  pc  px_height  px_width   ram  sc_h  sc_w  \\\n1807    0.8         98        1  17        123      1477  1462    19    18   \n1550    1.0        108        7   1        356       588  2335     6     4   \n1970    0.6        111        5   4        675       742  2023    17    13   \n1633    0.5        169        2  14        484       711  1687    15     5   \n1420    0.6        147        6   7       1094      1496   545    19    18   \n...     ...        ...      ...  ..        ...       ...   ...   ...   ...   \n1776    0.4        114        8  16        380       877  2715    15     9   \n1529    1.0        189        8   9       1693      1790  1133    14     3   \n885     0.9        167        7  10       1096      1155  2812    10     1   \n653     0.2        186        7  20        177      1282  2598    13     5   \n479     0.1        128        4   4        957      1911  3961    16    14   \n\n      talk_time  three_g  touch_screen  wifi  \n1807         13        1             0     1  \n1550          2        1             0     1  \n1970          8        1             1     0  \n1633          5        1             1     1  \n1420         16        0             0     0  \n...         ...      ...           ...   ...  \n1776         16        0             1     0  \n1529         10        0             1     0  \n885          17        0             0     0  \n653           8        1             1     0  \n479          14        1             0     1  \n\n[200 rows x 20 columns]\n1807    0\n1550    0\n1970    1\n1633    0\n1420    0\n       ..\n1776    1\n1529    0\n885     1\n653     0\n479     1\nName: price_classification, Length: 200, dtype: int32\n"
     ]
    }
   ],
   "source": [
    "print(x_train)\n",
    "print(y_train)\n",
    "print(x_test)\n",
    "print(y_test)"
   ]
  },
  {
   "source": [
    "### Train Logistic Regression Model"
   ],
   "cell_type": "markdown",
   "metadata": {}
  },
  {
   "cell_type": "code",
   "execution_count": 905,
   "metadata": {},
   "outputs": [],
   "source": [
    "logistic_regression = LogisticRegression()\n",
    "theta = logistic_regression.fit(x_train.values, y_train.values)"
   ]
  },
  {
   "source": [
    "#### Print model parameters"
   ],
   "cell_type": "markdown",
   "metadata": {}
  },
  {
   "cell_type": "code",
   "execution_count": 906,
   "metadata": {},
   "outputs": [
    {
     "output_type": "stream",
     "name": "stdout",
     "text": [
      "    Model Parameters\n0        -163.211373\n1          10.289252\n2         -10.890429\n3         -30.736843\n4         -12.707148\n5         -66.785639\n6         -11.694924\n7        -523.979003\n8         -12.793829\n9       -1291.436775\n10        -86.518960\n11       -192.788177\n12         40.027205\n13        -36.291364\n14        241.145130\n15       -286.385642\n16       -113.173077\n17       -266.253403\n18        -15.316659\n19        -13.704701\n20        -10.811298\n"
     ]
    }
   ],
   "source": [
    "theta_table = pd.DataFrame({'Model Parameters': theta.flatten()})\n",
    "print(theta_table)"
   ]
  },
  {
   "source": [
    "### Train Naive Bayes Model"
   ],
   "cell_type": "markdown",
   "metadata": {}
  },
  {
   "source": [
    "#### Continuous attributes"
   ],
   "cell_type": "markdown",
   "metadata": {}
  },
  {
   "cell_type": "code",
   "execution_count": 907,
   "metadata": {},
   "outputs": [],
   "source": [
    "continuous = [\n",
    "    'battery_power',\n",
    "    'clock_speed',\n",
    "    'fc',\n",
    "    'int_memory',\n",
    "    'm_dep',\n",
    "    'mobile_wt',\n",
    "    'pc',\n",
    "    'px_height',\n",
    "    'px_width',\n",
    "    'ram',\n",
    "    'sc_h',\n",
    "    'sc_w',\n",
    "    'talk_time'\n",
    "]\n",
    "uncontinuous = [\n",
    "    'blue',\n",
    "    'dual_sim',\n",
    "    'four_g',\n",
    "    'n_cores',\n",
    "    'three_g',\n",
    "    'touch_screen',\n",
    "    'wifi'\n",
    "]"
   ]
  },
  {
   "cell_type": "code",
   "execution_count": 908,
   "metadata": {
    "tags": []
   },
   "outputs": [],
   "source": [
    "naive_bayes = NaiveBayes(continuous, uncontinuous)\n",
    "params = naive_bayes.fit(x_train, y_train)"
   ]
  },
  {
   "source": [
    "#### Print parameters"
   ],
   "cell_type": "markdown",
   "metadata": {}
  },
  {
   "cell_type": "code",
   "execution_count": 909,
   "metadata": {},
   "outputs": [
    {
     "output_type": "stream",
     "name": "stdout",
     "text": [
      "Parameters of Naive Bayes Model:  {0: {'prior': 0.5, 'likelihood_con': {'battery_power': {'mean': 1169.195, 'var': 183449.47697499997}, 'clock_speed': {'mean': 1.48875, 'var': 0.6891484374999999}, 'fc': {'mean': 4.1675, 'var': 18.80194375}, 'int_memory': {'mean': 31.64625, 'var': 331.7836109375}, 'm_dep': {'mean': 0.51625, 'var': 0.08251093749999999}, 'mobile_wt': {'mean': 140.03625, 'var': 1283.7199359375}, 'pc': {'mean': 9.6225, 'var': 37.002493750000006}, 'px_height': {'mean': 593.73625, 'var': 171561.27418593748}, 'px_width': {'mean': 1200.53, 'var': 182335.3341}, 'ram': {'mean': 1233.5, 'var': 371179.87}, 'sc_h': {'mean': 12.345, 'var': 17.748475}, 'sc_w': {'mean': 5.59125, 'var': 17.5666734375}, 'talk_time': {'mean': 10.98, 'var': 29.9696}}, 'likelihood_uncon': {'blue': {'likelihoods': {0: 0.52125, 1: 0.47875}}, 'dual_sim': {'likelihoods': {0: 0.49625, 1: 0.50375}}, 'four_g': {'likelihoods': {0: 0.48875, 1: 0.51125}}, 'n_cores': {'likelihoods': {1: 0.1325, 2: 0.13375, 3: 0.12875, 4: 0.1275, 5: 0.11, 6: 0.12375, 7: 0.1175, 8: 0.12625}}, 'three_g': {'likelihoods': {0: 0.255, 1: 0.745}}, 'touch_screen': {'likelihoods': {0: 0.47875, 1: 0.52125}}, 'wifi': {'likelihoods': {0: 0.50125, 1: 0.49875}}}}, 1: {'prior': 0.5, 'likelihood_con': {'battery_power': {'mean': 1299.6725, 'var': 193394.71024374999}, 'clock_speed': {'mean': 1.5110000000000001, 'var': 0.644679}, 'fc': {'mean': 4.28375, 'var': 18.7057359375}, 'int_memory': {'mean': 32.81875, 'var': 330.1458984375}, 'm_dep': {'mean': 0.49337500000000006, 'var': 0.082793609375}, 'mobile_wt': {'mean': 140.73125, 'var': 1242.0265234375}, 'pc': {'mean': 9.96875, 'var': 36.2002734375}, 'px_height': {'mean': 692.19125, 'var': 219980.1046734375}, 'px_width': {'mean': 1308.88625, 'var': 184574.5883109375}, 'ram': {'mean': 3007.81625, 'var': 397971.71248593746}, 'sc_h': {'mean': 12.19125, 'var': 17.7971734375}, 'sc_w': {'mean': 5.87625, 'var': 19.508435937500003}, 'talk_time': {'mean': 11.145, 'var': 29.736475}}, 'likelihood_uncon': {'blue': {'likelihoods': {0: 0.50375, 1: 0.49625}}, 'dual_sim': {'likelihoods': {0: 0.485, 1: 0.515}}, 'four_g': {'likelihoods': {0: 0.46875, 1: 0.53125}}, 'n_cores': {'likelihoods': {1: 0.1225, 2: 0.12125, 3: 0.12375, 4: 0.125, 5: 0.1425, 6: 0.10625, 7: 0.13125, 8: 0.1275}}, 'three_g': {'likelihoods': {0: 0.23125, 1: 0.76875}}, 'touch_screen': {'likelihoods': {0: 0.50125, 1: 0.49875}}, 'wifi': {'likelihoods': {0: 0.47125, 1: 0.52875}}}}}\n"
     ]
    }
   ],
   "source": [
    "print(\"Parameters of Naive Bayes Model: \", params)"
   ]
  },
  {
   "source": [
    "## Test models"
   ],
   "cell_type": "markdown",
   "metadata": {}
  },
  {
   "source": [
    "### Test Logistic Regression Model"
   ],
   "cell_type": "markdown",
   "metadata": {}
  },
  {
   "cell_type": "code",
   "execution_count": 910,
   "metadata": {},
   "outputs": [
    {
     "output_type": "stream",
     "name": "stdout",
     "text": [
      "Accuracy of Logistic Regression Model: 0.84\n"
     ]
    }
   ],
   "source": [
    "accuracy_result_1 = logistic_regression.test(x_test.values, y_test.values)\n",
    "print('Accuracy of Logistic Regression Model: {:.2f}' .format(accuracy_result_1))"
   ]
  },
  {
   "source": [
    "### Test Naive Bayes Model"
   ],
   "cell_type": "markdown",
   "metadata": {}
  }
 ]
}